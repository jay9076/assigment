{
  "nbformat": 4,
  "nbformat_minor": 0,
  "metadata": {
    "colab": {
      "private_outputs": true,
      "provenance": []
    },
    "kernelspec": {
      "name": "python3",
      "display_name": "Python 3"
    },
    "language_info": {
      "name": "python"
    }
  },
  "cells": [
    {
      "cell_type": "markdown",
      "source": [
        "1 What is Python, and why is it popular?"
      ],
      "metadata": {
        "id": "zXZKqKvV9veF"
      }
    },
    {
      "cell_type": "markdown",
      "source": [
        "# Python is a popular, high-level, interpreted programming language known for its simplicity, readability, and versatility, making it suitable for web development, data science, automation, AI, and more. Its popularity stems from its easy-to-learn syntax, extensive libraries for various tasks, a vast and supportive global community, and its open-source nature, which fosters innovation and broad adoption\n",
        "\n",
        "Ease of Use and Readability: Python's syntax is straightforward and similar to plain English, allowing developers to express ideas with fewer lines of code"
      ],
      "metadata": {
        "id": "v-x1YZsG90DT"
      }
    },
    {
      "cell_type": "markdown",
      "source": [
        "2.What is an interpreter in Python?"
      ],
      "metadata": {
        "id": "ylmuyOvf-Owz"
      }
    },
    {
      "cell_type": "markdown",
      "source": [
        "A Python interpreter is a program that directly executes Python code. It acts as both a translator and a runtime environment for your Python programs.\n",
        "Reads Python Code: The interpreter reads your Python source code, which is typically written in a .py file.\n",
        "Conversion to Bytecode: It translates the human-readable Python code into an intermediate format called bytecode. This bytecode is not specific to any particular machine but is a low-level representation of your program.\n",
        "Execution by the Python Virtual Machine (PVM): The bytecode is then executed by the Python Virtual Machine (PVM), which is a part of the interpreter. The PVM translates the bytecode instructions into machine-specific instructions that your computer's hardware can understand and execute.\n",
        "Line-by-Line Processing: Unlike a compiler that translates the entire program at once, an interpreter processes and executes the code line by line. This allows for immediate execution and easier debugging, as errors can be identified and addressed as they occur."
      ],
      "metadata": {
        "id": "8mi1vCvQ-bWD"
      }
    },
    {
      "cell_type": "code",
      "source": [
        "3.What are pre-defined keywords in Python?"
      ],
      "metadata": {
        "id": "VCUm7YdZ-6Ia"
      },
      "execution_count": null,
      "outputs": []
    },
    {
      "cell_type": "markdown",
      "source": [
        "Pre-defined keywords in Python are reserved words that have specific, fixed meanings within the language and cannot be used as identifiers (like variable names, function names, or class names). They are fundamental to Python's syntax and structure, guiding the interpreter on how to execute the code.\n",
        "Key characteristics of Python keywords:\n",
        "Reserved words: They are part of the Python language itself and cannot be redefined or used for any other purpose.\n",
        "Specific meanings: Each keyword has a predefined function, such as defining control flow (e.g., if, else, for, while), managing functions (e.g., def, return), handling exceptions (e.g., try, except), or representing boolean values (e.g., True, False).\n",
        "Case-sensitive: Python keywords are case-sensitive. Most are in lowercase, with the exceptions of True, False, and None.\n",
        "Essential for syntax: They are crucial for creating valid and functional Python code, as they dictate how different elements of the program interact and behave."
      ],
      "metadata": {
        "id": "1rphPqjy_Bzp"
      }
    },
    {
      "cell_type": "markdown",
      "source": [
        "4.Can keywords be used as variable names?"
      ],
      "metadata": {
        "id": "kNQx3ns8_OZK"
      }
    },
    {
      "cell_type": "markdown",
      "source": [
        "No, keywords cannot be used as variable names in Python.\n",
        "Python keywords are reserved words that have specific meanings and purposes within the language's syntax and structure. They are fundamental building blocks of Python code, used to define functions, control flow, handle exceptions, and more.\n",
        "Attempting to use a keyword as a variable name will result in a SyntaxError. For example, trying to assign a value to if or for will produce an error because these are reserved keywords."
      ],
      "metadata": {
        "id": "Gppv2_m2_cS7"
      }
    },
    {
      "cell_type": "markdown",
      "source": [
        "5.What is mutability in Python?"
      ],
      "metadata": {
        "id": "DOU2TbgU_dXx"
      }
    },
    {
      "cell_type": "markdown",
      "source": [
        "In Python, mutability refers to the ability of an object to be modified after it has been created. Objects are categorized as either mutable or immutable.\n",
        "Mutable Objects:\n",
        "Mutable objects are those whose internal state or value can be changed without creating a new object in memory. When you modify a mutable object, its identity (memory address) remains the same, but its content changes."
      ],
      "metadata": {
        "id": "M8OPfmbw_oaS"
      }
    },
    {
      "cell_type": "markdown",
      "source": [
        "6.Why are lists mutable, but tuples are immutable?"
      ],
      "metadata": {
        "id": "jOi_XRj__rhb"
      }
    },
    {
      "cell_type": "markdown",
      "source": [
        "Lists are mutable because their implementation includes mutator operations like append and __setitem__ that allow for changes, while tuples are immutable because their implementation lacks these operations, meaning their contents cannot be changed after creation. This fundamental design choice for tuples ensures data integrity for fixed collections, whereas lists provide flexibility for dynamic data manipulation"
      ],
      "metadata": {
        "id": "7QW8BC7o_2ta"
      }
    },
    {
      "cell_type": "markdown",
      "source": [
        "7.What is the difference between\"==\" and \"is operators in Python?"
      ],
      "metadata": {
        "id": "xd_v07ik_3uK"
      }
    },
    {
      "cell_type": "markdown",
      "source": [
        "In Python, the == operator and the is operator serve different purposes when comparing objects:\n",
        "== (Equality Operator):\n",
        "The == operator compares the values of two objects. It checks if the content or data that two objects hold is the same.\n",
        "This comparison can be customized for custom classes by defining the __eq__ method within the class.\n",
        "is (Identity Operator):\n",
        "The is operator compares the identity of two objects. It checks if two variables refer to the exact same object in memory.\n",
        "This means it determines if two variables point to the same memory address.\n",
        "The is operator cannot be overloaded or customized for custom classes."
      ],
      "metadata": {
        "id": "qSnC0IHG_7Wx"
      }
    },
    {
      "cell_type": "markdown",
      "source": [
        "8.What are logical operators in Python?"
      ],
      "metadata": {
        "id": "Zu0GJrHxAFbp"
      }
    },
    {
      "cell_type": "markdown",
      "source": [
        "Logical operators in Python are used to combine conditional statements and perform logical operations on Boolean values (True or False). They are essential for creating more complex conditions in your code. Python has three primary logical operators:\n",
        "and operator (Logical AND):\n",
        "Returns True if both operands are True.\n",
        "Returns False if at least one operand is False."
      ],
      "metadata": {
        "id": "gdc3zI5mAJQ5"
      }
    },
    {
      "cell_type": "markdown",
      "source": [
        "9.What is type casting in Python?\n"
      ],
      "metadata": {
        "id": "W8ZN1vhbAPRZ"
      }
    },
    {
      "cell_type": "markdown",
      "source": [
        "Type casting in Python, also known as type conversion, is the process of converting a value or variable from one data type to another. This is often necessary to ensure compatibility between different data types when performing operations or to achieve a specific data representation."
      ],
      "metadata": {
        "id": "PCNI0Jy-A4-B"
      }
    },
    {
      "cell_type": "markdown",
      "source": [
        "10.What is the difference between implicit and explicit type casting?"
      ],
      "metadata": {
        "id": "K4qiScimAhly"
      }
    },
    {
      "cell_type": "markdown",
      "source": [
        "Implicit Type Casting (Type Coercion)\n",
        "Automatic:\n",
        "The conversion happens automatically without the user's direct intervention.\n",
        "Compiler/Interpreter Driven:\n",
        "The compiler (in languages like C) or the interpreter (in languages like Python) handles the conversion.\n",
        "Data Integrity:\n",
        "Typically occurs when converting to a type that can safely hold the value of the original type, preventing data loss.\n",
        "Manual:\n",
        "The programmer must explicitly instruct the program to convert the data type.\n",
        "Programmer Control:\n",
        "This gives the programmer direct control over how the conversion occurs, which is crucial when data loss might be involved.\n",
        "Casting Operator:\n",
        "Uses specific syntax, such as parentheses (data_type) in C, to specify the desired conversion."
      ],
      "metadata": {
        "id": "6ZWN8UOhAyRp"
      }
    },
    {
      "cell_type": "markdown",
      "source": [
        "11.What is the purpose of conditional statements in Python?"
      ],
      "metadata": {
        "id": "rlFgcIs1A36C"
      }
    },
    {
      "cell_type": "markdown",
      "source": [
        "Conditional statements in Python, such as if, elif, and else, serve the purpose of controlling the flow of a program based on whether certain conditions are met. They enable programs to make decisions and execute different blocks of code depending on the evaluation of a boolean expression (true or false).\n",
        "The primary purposes of conditional statements include:\n",
        "Decision Making: Conditional statements allow programs to evaluate conditions and choose which code path to follow. For instance, a program can check if a user is old enough to access certain content and, if so, grant access; otherwise, it can deny access or display a different message.\n",
        "Handling Different Inputs and Scenarios: Programs can react dynamically to varying inputs or situations. For example, a program might process user input differently based on whether it's a number, a string, or a specific keyword.\n",
        "Creating Dynamic Behavior: Conditional logic makes programs more flexible and adaptable. Instead of following a rigid sequence of instructions, the program's behavior can change based on the state of variables or external factors.\n",
        "Building Robust Applications: By anticipating and managing different scenarios, conditional statements help in creating more robust applications that can handle various edge cases and prevent errors.\n",
        "Automating Decision-Making: Programs can automate decision-making processes without requiring human intervention for every choice. This is essential for tasks like sorting data, filtering results, or implementing business rules."
      ],
      "metadata": {
        "id": "B1bA2ynlBLrq"
      }
    },
    {
      "cell_type": "markdown",
      "source": [
        "12. How does the elif statement work?\n"
      ],
      "metadata": {
        "id": "PgAg3T1jBMo8"
      }
    },
    {
      "cell_type": "markdown",
      "source": [
        "The elif statement in Python, short for \"else if,\" allows for the evaluation of multiple conditions in a sequential manner. It is always used in conjunction with an if statement and can be followed by an optional else statement.\n",
        "Here is how it works:\n",
        "Initial if check: The program first evaluates the condition within the if statement.\n",
        "elif evaluation (if if is false): If the if condition evaluates to False, the program then proceeds to evaluate the condition within the first elif statement.\n",
        "Subsequent elif evaluations: If the first elif condition is also False, the program moves to the next elif statement and evaluates its condition, and so on. This process continues for any number of elif statements.\n",
        "else execution (if all if/elif are false): If all if and elif conditions evaluate to False, the code block within the else statement (if present) is executed.\n",
        "Execution and exit: Once a condition within an if or elif statement evaluates to True, its corresponding code block is executed, and the entire if-elif-else block is exited. No further elif or else conditions are checked."
      ],
      "metadata": {
        "id": "IXhtQw6FBXui"
      }
    },
    {
      "cell_type": "markdown",
      "source": [
        "13. What is the difference between far and while loops?\n"
      ],
      "metadata": {
        "id": "WsOs_Mo3BaDa"
      }
    },
    {
      "cell_type": "markdown",
      "source": [
        "The main difference is that a for loop is used when you know the number of iterations beforehand, while a while loop is used when the number of iterations is unknown and repeats based on a condition being true. A for loop explicitly handles initialization, condition, and increment/decrement within its structure, whereas a while loop only requires a condition and relies on the loop body for other logic, often leading to more flexible but potentially infinite loops if the condition isn't managed carefully.\n",
        "For Loop\n",
        "Purpose:\n",
        "Ideal for situations where the exact number of repetitions is known in advance.\n",
        "Structure:\n",
        "Integrates initialization, condition checking, and increment/decrement within the loop's syntax\n",
        "While Loop\n",
        "Purpose:\n",
        "Designed for situations where the number of iterations is not known and the loop continues as long as a specified condition remains true.\n",
        "Structure:\n",
        "The loop continues as long as the condition is true. Initialization and updates to variables influencing the condition must be managed within the loop body."
      ],
      "metadata": {
        "id": "A2DSCuuuBf1B"
      }
    },
    {
      "cell_type": "markdown",
      "source": [
        "14.Describe a scenario where a while loop is more suitable than a for loop"
      ],
      "metadata": {
        "id": "8wiLmA-4Bqpd"
      }
    },
    {
      "cell_type": "markdown",
      "source": [
        "A while loop is more suitable than a for loop in scenarios where the number of iterations is not known in advance, and the loop's continuation depends on a specific condition being met or unmet.\n",
        "Scenario: User Input Validation\n",
        "Consider a program that requires the user to enter a valid phone number. The program needs to repeatedly prompt the user for input until a phone number in the correct format is provided."
      ],
      "metadata": {
        "id": "a7AeAY55B5FF"
      }
    },
    {
      "cell_type": "markdown",
      "source": [
        "Practical Questions\n",
        "\n",
        "\n",
        "\n"
      ],
      "metadata": {
        "id": "-ZVzaWsdB6tM"
      }
    },
    {
      "cell_type": "markdown",
      "source": [
        "1.Write a Python program to print \"Hello, World!"
      ],
      "metadata": {
        "id": "KIMyRgH-CHKc"
      }
    },
    {
      "cell_type": "code",
      "source": [
        "print(\"Hello, World!\")"
      ],
      "metadata": {
        "id": "cmiqAQjmCMtr"
      },
      "execution_count": null,
      "outputs": []
    },
    {
      "cell_type": "markdown",
      "source": [
        "2. Write a Python program that displays your name and age"
      ],
      "metadata": {
        "id": "FJXpJMlYCU4i"
      }
    },
    {
      "cell_type": "code",
      "source": [
        "name = \"Alice\"\n",
        "age = 30\n",
        "\n",
        "# Use an f-string to print the message\n",
        "print(f\"My name is,(name), and I am (age) years old.\")\n"
      ],
      "metadata": {
        "id": "b-FPX9sPCZmy"
      },
      "execution_count": null,
      "outputs": []
    },
    {
      "cell_type": "markdown",
      "source": [
        "3. Write code to print all the pre-defined keywords in Python using the keyword library.\n"
      ],
      "metadata": {
        "id": "REu7KCJpCxXL"
      }
    },
    {
      "cell_type": "code",
      "source": [
        "print(\"The list of Python keywords is:\")\n",
        "for kw in keyword.kwlist:\n",
        "    print(kw)"
      ],
      "metadata": {
        "id": "Aqb6I4ZNDhUo"
      },
      "execution_count": null,
      "outputs": []
    },
    {
      "cell_type": "markdown",
      "source": [
        "4.Write a program that checks if a given word is a Python keyword"
      ],
      "metadata": {
        "id": "u6p_mXx-DypB"
      }
    },
    {
      "cell_type": "code",
      "source": [
        "\n",
        "\n",
        "def check_if_keyword(word):\n",
        "  \"\"\"\n",
        "  Checks if a given word is a Python keyword.\n",
        "\n",
        "  Args:\n",
        "    word: The string to be checked.\n",
        "\n",
        "  Returns:\n",
        "    True if the word is a Python keyword, False otherwise.\n",
        "  \"\"\"\n",
        "  return keyword.iskeyword(word)\n",
        "\n",
        "# Example usage:\n",
        "word1 = \"for\"\n",
        "word2 = \"my_variable\"\n",
        "word3 = \"True\"\n",
        "word4 = \"function\"\n",
        "\n",
        "print(f\"'{word1}' is a Python keyword: {check_if_keyword(word1)}\")\n",
        "print(f\"'{word2}' is a Python keyword: {check_if_keyword(word2)}\")\n",
        "print(f\"'{word3}' is a Python keyword: {check_if_keyword(word3)}\")\n",
        "print(f\"'{word4}' is a Python keyword: {check_if_keyword(word4)}\")"
      ],
      "metadata": {
        "id": "FOVwi44YEB_A"
      },
      "execution_count": null,
      "outputs": []
    },
    {
      "cell_type": "markdown",
      "source": [
        "5.Create a list and tuple in Python, and demonstrate how attempting to change an element works differently for each"
      ],
      "metadata": {
        "id": "T41zizXYEHqm"
      }
    },
    {
      "cell_type": "code",
      "source": [
        "# Create a list\n",
        "my_list = [10, 20, 30, 40]\n",
        "print(\"Original list:\", my_list)\n",
        "\n",
        "# Attempt to change an element in the list\n",
        "my_list[1] = 25\n",
        "print(\"Modified list:\", my_list)\n",
        "\n",
        "# Create a tuple\n",
        "my_tuple = (100, 200, 300, 400)\n",
        "print(\"Original tuple:\", my_tuple)\n",
        "\n",
        "# Attempt to change an element in the tuple\n",
        "try:\n",
        "    my_tuple[1] = 250\n",
        "except TypeError as e:\n",
        "    print(f\"Error when attempting to modify tuple: {e}\")"
      ],
      "metadata": {
        "id": "zra_hDi9ELRG"
      },
      "execution_count": null,
      "outputs": []
    },
    {
      "cell_type": "markdown",
      "source": [
        "6. Write a function to demonstrate the behavior of mutabile and immutable arguments\n"
      ],
      "metadata": {
        "id": "EaXRjEZTERj3"
      }
    },
    {
      "cell_type": "code",
      "source": [
        "def demonstrate_argument_behavior(mutable_arg, immutable_arg):\n",
        "    print(f\"Inside function:\")\n",
        "    print(f\"  Initial mutable_arg: {mutable_arg}, id: {id(mutable_arg)}\")\n",
        "    print(f\"  Initial immutable_arg: {immutable_arg}, id: {id(immutable_arg)}\")\n",
        "\n",
        "    # Modify the mutable argument\n",
        "    mutable_arg.append(4)\n",
        "    print(f\"  Modified mutable_arg: {mutable_arg}, id: {id(mutable_arg)}\")\n",
        "\n",
        "    # Attempt to modify the immutable argument (this will create a new object)\n",
        "    immutable_arg += 1\n",
        "    print(f\"  Modified immutable_arg: {immutable_arg}, id: {id(immutable_arg)}\")\n",
        "\n",
        "# Main part of the script\n",
        "if __name__ == \"__main__\":\n",
        "    my_list = [1, 2, 3]\n",
        "    my_int = 10\n",
        "\n",
        "    print(f\"Outside function (before call):\")\n",
        "    print(f\"  my_list: {my_list}, id: {id(my_list)}\")\n",
        "    print(f\"  my_int: {my_int}, id: {id(my_int)}\")\n",
        "\n",
        "    demonstrate_argument_behavior(my_list, my_int)\n",
        "\n",
        "    print(f\"Outside function (after call):\")\n",
        "    print(f\"  my_list: {my_list}, id: {id(my_list)}\")\n",
        "    print(f\"  my_int: {my_int}, id: {id(my_int)}\")\n"
      ],
      "metadata": {
        "id": "b5zRpUxnEXHm"
      },
      "execution_count": null,
      "outputs": []
    },
    {
      "cell_type": "markdown",
      "source": [
        "7. Write a program that performs basic arithmetic operations on two user-input numbers.\n"
      ],
      "metadata": {
        "id": "HGMuMEuEEgEA"
      }
    },
    {
      "cell_type": "code",
      "source": [
        "# Get input for the first number\n",
        "num1_str = input(\"Enter the first number: \")\n",
        "# Get input for the second number\n",
        "num2_str = input(\"Enter the second number: \")\n",
        "\n",
        "\n",
        "\n",
        ""
      ],
      "metadata": {
        "id": "Ksxcs69TElmG"
      },
      "execution_count": null,
      "outputs": []
    },
    {
      "cell_type": "markdown",
      "source": [
        "8.Write a program to demonstrate the use of logical operators."
      ],
      "metadata": {
        "id": "q3ToO3l7Ezzm"
      }
    },
    {
      "cell_type": "code",
      "source": [
        "x = 10\n",
        "y = 5\n",
        "is_raining = True\n",
        "has_umbrella = False\n",
        "print(\"Demonstrating Logical AND (and):\")\n",
        "# Logical AND: True if both conditions are True\n",
        "result_and_1 = (x > y) and (y > 0)\n",
        "print(f\"({x} > {y}) and ({y} > 0) is {result_and_1}\")"
      ],
      "metadata": {
        "id": "eBfJDO1HE-Cm"
      },
      "execution_count": null,
      "outputs": []
    },
    {
      "cell_type": "markdown",
      "source": [
        "9.Write a Python program to convert user input from string to integer, float, and boolean types"
      ],
      "metadata": {
        "id": "1mnPAjNXFF0t"
      }
    },
    {
      "cell_type": "code",
      "source": [
        "def convert_user_input():\n",
        "    \"\"\"\n",
        "    Prompts the user for input and attempts to convert it to integer, float, and boolean.\n",
        "    Includes error handling for invalid conversions.\n",
        "    \"\"\"\n",
        "    user_input_str = input(\"Enter a value (e.g., 123, 3.14, True, False): \")\n",
        "\n",
        "    # Convert to Integer\n",
        "    try:\n",
        "        converted_int = int(user_input_str)\n",
        "        print(f\"Converted to Integer: {converted_int} (Type: {type(converted_int)})\")\n",
        "    except ValueError:\n",
        "        print(f\"Could not convert '{user_input_str}' to an integer.\")\n",
        "\n",
        "    # Convert to Float\n",
        "    try:\n",
        "        converted_float = float(user_input_str)\n",
        "        print(f\"Converted to Float: {converted_float} (Type: {type(converted_float)})\")\n",
        "    except ValueError:\n",
        "        print(f\"Could not convert '{user_input_str}' to a float.\")\n",
        "\n",
        "    # Convert to Boolean\n",
        "    # For boolean, we explicitly check for 'true' or 'false' (case-insensitive)\n",
        "    converted_bool = None\n",
        "    if user_input_str.lower() == 'true':\n",
        "        converted_bool = True\n",
        "        print(f\"Converted to Boolean: {converted_bool} (Type: {type(converted_bool)})\")\n",
        "    elif user_input_str.lower() == 'false':\n",
        "        converted_bool = False\n",
        "        print(f\"Converted to Boolean: {converted_bool} (Type: {type(converted_bool)})\")\n",
        ""
      ],
      "metadata": {
        "id": "2ftwv9VAFKgF"
      },
      "execution_count": null,
      "outputs": []
    },
    {
      "cell_type": "markdown",
      "source": [
        "10.Write code to dernonstrate type casting with list elements"
      ],
      "metadata": {
        "id": "xAyiei_qFW11"
      }
    },
    {
      "cell_type": "code",
      "source": [
        "mixed_list = [1, 2.5, \"3\", True, \"5.0\"]\n",
        "print(f\"Original list: {mixed_list}\")\n",
        "print(f\"Original list element types: {[type(item) for item in mixed_list]}\\n\")"
      ],
      "metadata": {
        "id": "GfhjiqWDFfo8"
      },
      "execution_count": null,
      "outputs": []
    },
    {
      "cell_type": "markdown",
      "source": [
        "11.Write a program that checks if a number is positive, negative, or zero,"
      ],
      "metadata": {
        "id": "8l0ilYwdFhIS"
      }
    },
    {
      "cell_type": "code",
      "source": [
        "def check_number_type(number):\n",
        "  \"\"\"\n",
        "  Checks if a number is positive, negative, or zero.\n",
        "\n",
        "  Args:\n",
        "    number: The number to be checked.\n",
        "\n",
        "  Returns:\n",
        "    A string indicating whether the number is \"Positive\", \"Negative\", or \"Zero\".\n",
        "  \"\"\"\n",
        "  if number > 0:\n",
        "    return \"Positive\"\n",
        "  elif number < 0:\n",
        "    return \"Negative\"\n",
        "  else:\n",
        "    return \"Zero\"\n",
        "\n"
      ],
      "metadata": {
        "id": "hvtpNLjvFm-T"
      },
      "execution_count": null,
      "outputs": []
    },
    {
      "cell_type": "markdown",
      "source": [
        "12.Write a for loop to print numbers from 1 to 10."
      ],
      "metadata": {
        "id": "oKvs7ApXFqtF"
      }
    },
    {
      "cell_type": "code",
      "source": [
        "for i in range(1, 11):\n",
        "    print(i)"
      ],
      "metadata": {
        "id": "JLOmoXAQFxmi"
      },
      "execution_count": null,
      "outputs": []
    },
    {
      "cell_type": "markdown",
      "source": [
        "13.Write a Python program to find the sum of all even numbers between 1 and 50."
      ],
      "metadata": {
        "id": "-fl1MV36F6SO"
      }
    },
    {
      "cell_type": "code",
      "source": [
        "\n",
        "even_sum = 0\n",
        "\n",
        "\n",
        "for number in range(1, 51):\n",
        "\n",
        "    if number % 2 == 0:\n",
        "\n",
        "        even_sum += number\n",
        "\n",
        "\n",
        "print(f\"The sum of all even numbers between 1 and 50 is: {even_sum}\")"
      ],
      "metadata": {
        "id": "nDBxSR2jGDU2"
      },
      "execution_count": null,
      "outputs": []
    },
    {
      "cell_type": "markdown",
      "source": [
        "\n",
        "14. Write a program to reverse a string using a while loop\n"
      ],
      "metadata": {
        "id": "u706hjt2GKF0"
      }
    },
    {
      "cell_type": "code",
      "source": [
        "\n",
        "  reversed_string = \"\"\n",
        "  index = len(input_string) - 1  # Start from the last character\n",
        "\n",
        "  while index >= 0:\n",
        "    reversed_string += input_string[index]\n",
        "    index -= 1  # Move to the previous character\n",
        "\n"
      ],
      "metadata": {
        "id": "kuqvwhMJGQmb"
      },
      "execution_count": null,
      "outputs": []
    },
    {
      "cell_type": "markdown",
      "source": [
        "15.Write a Python program to calculate the factorial of a number provided by the user using a while loop."
      ],
      "metadata": {
        "id": "dmG5gT0pGihJ"
      }
    },
    {
      "cell_type": "code",
      "source": [
        "\n",
        "    if number < 0:\n",
        "        return \"Factorial is not defined for negative numbers.\"\n",
        "    elif number == 0:\n",
        "        return 1\n",
        "    else:\n",
        "        factorial = 1\n",
        "        current_number = 1\n",
        "        while current_number <= number:\n",
        "            factorial *= current_number\n",
        "            current_number += 1\n",
        "        return factorial\n",
        "\n",
        "\n",
        "try:\n",
        "    user_input = int(input(\"Enter a non-negative integer to calculate its factorial: \"))\n",
        "    result = calculate_factorial_while(user_input)\n",
        "    if isinstance(result, str):\n",
        "        print(result)\n",
        "    else:\n",
        "        print(f\"The factorial of {user_input} is: {result}\")\n",
        "except ValueError:\n",
        "    print(\"Invalid input. Please enter an integer.\")"
      ],
      "metadata": {
        "id": "IAJbGYosGoxW"
      },
      "execution_count": null,
      "outputs": []
    }
  ]
}